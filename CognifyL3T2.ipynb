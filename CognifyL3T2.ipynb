{
  "nbformat": 4,
  "nbformat_minor": 0,
  "metadata": {
    "colab": {
      "provenance": []
    },
    "kernelspec": {
      "name": "python3",
      "display_name": "Python 3"
    },
    "language_info": {
      "name": "python"
    }
  },
  "cells": [
    {
      "cell_type": "code",
      "execution_count": null,
      "metadata": {
        "colab": {
          "base_uri": "https://localhost:8080/",
          "height": 1000
        },
        "id": "HvRicGyU0fzC",
        "outputId": "79108fe3-cf0b-4f85-a365-c375090eb5b8"
      },
      "outputs": [],
      "source": [
        "import pandas as pd\n",
        "import matplotlib.pyplot as plt\n",
        "import seaborn as sns\n",
        "\n",
        "# Load the dataset (replace 'your_dataset.csv' with the actual dataset file path)\n",
        "df = pd.read_csv('/content/Dataset .csv')\n",
        "\n",
        "# Task 1: Analyze the relationship between the type of cuisine and the restaurant's rating\n",
        "# Group by 'Cuisines' and calculate the average rating for each cuisine\n",
        "cuisine_rating = df.groupby('Cuisines')['Aggregate rating'].mean().reset_index()\n",
        "\n",
        "# Sort the cuisines by average rating in descending order\n",
        "cuisine_rating_sorted = cuisine_rating.sort_values(by='Aggregate rating', ascending=False)\n",
        "\n",
        "# Display the relationship between cuisines and average rating\n",
        "print(\"\\nAverage ratings by cuisine:\")\n",
        "print(cuisine_rating_sorted)\n",
        "\n",
        "# Plot the relationship between cuisine and average rating\n",
        "plt.figure(figsize=(12, 8))\n",
        "sns.barplot(x='Aggregate rating', y='Cuisines', data=cuisine_rating_sorted, palette='viridis')\n",
        "plt.title('Average Ratings by Cuisine Type')\n",
        "plt.xlabel('Average Rating')\n",
        "plt.ylabel('Cuisine Type')\n",
        "plt.show()\n",
        "\n",
        "# Task 2: Identify the most popular cuisines among customers based on the number of votes\n",
        "# We will assume that 'Votes' column holds the number of votes for each restaurant\n",
        "\n",
        "# Group by 'Cuisines' and calculate the total number of votes for each cuisine\n",
        "cuisine_votes = df.groupby('Cuisines')['Votes'].sum().reset_index()\n",
        "\n",
        "# Sort by number of votes in descending order to find the most popular cuisines\n",
        "cuisine_votes_sorted = cuisine_votes.sort_values(by='Votes', ascending=False)\n",
        "\n",
        "# Display the most popular cuisines\n",
        "print(\"\\nMost popular cuisines based on number of votes:\")\n",
        "print(cuisine_votes_sorted.head(10))  # Show top 10 most popular cuisines\n",
        "\n",
        "# Plot the top 10 most popular cuisines based on votes\n",
        "plt.figure(figsize=(12, 8))\n",
        "sns.barplot(x='Votes', y='Cuisines', data=cuisine_votes_sorted.head(10), palette='Blues')\n",
        "plt.title('Top 10 Most Popular Cuisines Based on Number of Votes')\n",
        "plt.xlabel('Total Votes')\n",
        "plt.ylabel('Cuisine Type')\n",
        "plt.show()\n",
        "\n",
        "# Task 3: Determine if there are any specific cuisines that tend to receive higher ratings\n",
        "# To do this, we can check the correlation between 'Votes' and 'Aggregate rating' for each cuisine\n",
        "# We will plot a scatterplot to visualize if there's any trend between votes and average rating\n",
        "\n",
        "# Merge the rating and votes data to analyze the relationship\n",
        "cuisine_analysis = pd.merge(cuisine_rating_sorted, cuisine_votes_sorted, on='Cuisines')\n",
        "\n",
        "# Plot a scatterplot to check the relationship between the number of votes and average rating\n",
        "plt.figure(figsize=(10, 6))\n",
        "sns.scatterplot(x='Votes', y='Aggregate rating', data=cuisine_analysis, hue='Cuisines', palette='Set2')\n",
        "plt.title('Relationship Between Votes and Average Rating by Cuisine')\n",
        "plt.xlabel('Total Votes')\n",
        "plt.ylabel('Average Rating')\n",
        "plt.legend(title='Cuisine', bbox_to_anchor=(1.05, 1), loc='upper left')\n",
        "plt.show()\n"
      ]
    }
  ]
}