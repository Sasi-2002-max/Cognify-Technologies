{
  "nbformat": 4,
  "nbformat_minor": 0,
  "metadata": {
    "colab": {
      "provenance": []
    },
    "kernelspec": {
      "name": "python3",
      "display_name": "Python 3"
    },
    "language_info": {
      "name": "python"
    }
  },
  "cells": [
    {
      "cell_type": "code",
      "execution_count": null,
      "metadata": {
        "colab": {
          "base_uri": "https://localhost:8080/",
          "height": 1000
        },
        "id": "cfp-40oG1kXP",
        "outputId": "48559076-0832-44a0-cf12-9bef0f40d3f8"
      },
      "outputs": [],
      "source": [
        "import pandas as pd\n",
        "import matplotlib.pyplot as plt\n",
        "import seaborn as sns\n",
        "\n",
        "# Load the dataset (replace 'your_dataset.csv' with the actual dataset file path)\n",
        "df = pd.read_csv('/content/Dataset .csv')\n",
        "\n",
        "# Set up the visualizations\n",
        "sns.set(style=\"whitegrid\")\n",
        "\n",
        "# Task 1: Visualize the distribution of ratings using different charts (histogram, bar plot, etc.)\n",
        "# Histogram of the aggregate ratings\n",
        "plt.figure(figsize=(10, 6))\n",
        "sns.histplot(df['Aggregate rating'], kde=True, color='blue', bins=30)\n",
        "plt.title('Distribution of Aggregate Ratings')\n",
        "plt.xlabel('Rating')\n",
        "plt.ylabel('Frequency')\n",
        "plt.show()\n",
        "\n",
        "# Bar plot for the frequency of ratings\n",
        "plt.figure(figsize=(10, 6))\n",
        "sns.countplot(x='Aggregate rating', data=df, palette='Blues')\n",
        "plt.title('Frequency of Different Ratings')\n",
        "plt.xlabel('Rating')\n",
        "plt.ylabel('Count')\n",
        "plt.show()\n",
        "\n",
        "# Task 2: Compare the average ratings of different cuisines or cities using appropriate visualizations\n",
        "# Comparing average ratings by cuisine\n",
        "cuisine_rating = df.groupby('Cuisines')['Aggregate rating'].mean().reset_index()\n",
        "cuisine_rating_sorted = cuisine_rating.sort_values(by='Aggregate rating', ascending=False)\n",
        "\n",
        "plt.figure(figsize=(12, 8))\n",
        "sns.barplot(x='Aggregate rating', y='Cuisines', data=cuisine_rating_sorted, palette='viridis')\n",
        "plt.title('Average Ratings by Cuisine')\n",
        "plt.xlabel('Average Rating')\n",
        "plt.ylabel('Cuisine Type')\n",
        "plt.show()\n",
        "\n",
        "# Comparing average ratings by city (assuming 'City' column exists)\n",
        "if 'City' in df.columns:\n",
        "    city_rating = df.groupby('City')['Aggregate rating'].mean().reset_index()\n",
        "    city_rating_sorted = city_rating.sort_values(by='Aggregate rating', ascending=False)\n",
        "\n",
        "    plt.figure(figsize=(12, 8))\n",
        "    sns.barplot(x='Aggregate rating', y='City', data=city_rating_sorted, palette='magma')\n",
        "    plt.title('Average Ratings by City')\n",
        "    plt.xlabel('Average Rating')\n",
        "    plt.ylabel('City')\n",
        "    plt.show()\n",
        "\n",
        "# Task 3: Visualize the relationship between various features and the target variable (Aggregate rating)\n",
        "# Scatter plot for the relationship between 'Votes' and 'Aggregate rating'\n",
        "plt.figure(figsize=(10, 6))\n",
        "sns.scatterplot(x='Votes', y='Aggregate rating', data=df, hue='Cuisines', palette='Set2')\n",
        "plt.title('Relationship Between Votes and Aggregate Rating')\n",
        "plt.xlabel('Number of Votes')\n",
        "plt.ylabel('Aggregate Rating')\n",
        "plt.legend(title='Cuisine', bbox_to_anchor=(1.05, 1), loc='upper left')\n",
        "plt.show()\n",
        "\n",
        "# Scatter plot for the relationship between 'Restaurant Name Length' and 'Aggregate rating'\n",
        "# Assuming 'Name Length' feature was created during feature engineering\n",
        "if 'Name Length' in df.columns:\n",
        "    plt.figure(figsize=(10, 6))\n",
        "    sns.scatterplot(x='Name Length', y='Aggregate rating', data=df, hue='Cuisines', palette='Set1')\n",
        "    plt.title('Relationship Between Restaurant Name Length and Aggregate Rating')\n",
        "    plt.xlabel('Restaurant Name Length')\n",
        "    plt.ylabel('Aggregate Rat')\n"
      ]
    }
  ]
}