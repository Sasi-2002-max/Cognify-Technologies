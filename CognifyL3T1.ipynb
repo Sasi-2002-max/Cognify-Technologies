{
  "nbformat": 4,
  "nbformat_minor": 0,
  "metadata": {
    "colab": {
      "provenance": []
    },
    "kernelspec": {
      "name": "python3",
      "display_name": "Python 3"
    },
    "language_info": {
      "name": "python"
    }
  },
  "cells": [
    {
      "cell_type": "code",
      "execution_count": null,
      "metadata": {
        "colab": {
          "base_uri": "https://localhost:8080/"
        },
        "id": "MA5NP-8MzBxj",
        "outputId": "2fb108c9-2ff4-426b-ce84-3cd4a070981a"
      },
      "outputs": [
        {
          "output_type": "stream",
          "name": "stdout",
          "text": [
            "\n",
            "Performance of Linear Regression:\n",
            "Mean Absolute Error (MAE): 1.0352\n",
            "Mean Squared Error (MSE): 1.5759\n",
            "Root Mean Squared Error (RMSE): 1.2554\n",
            "R-squared (R²): 0.3076\n",
            "\n",
            "Performance of Decision Tree:\n",
            "Mean Absolute Error (MAE): 0.2504\n",
            "Mean Squared Error (MSE): 0.1501\n",
            "Root Mean Squared Error (RMSE): 0.3875\n",
            "R-squared (R²): 0.9340\n",
            "\n",
            "Performance of Random Forest:\n",
            "Mean Absolute Error (MAE): 0.1833\n",
            "Mean Squared Error (MSE): 0.0759\n",
            "Root Mean Squared Error (RMSE): 0.2755\n",
            "R-squared (R²): 0.9667\n"
          ]
        }
      ],
      "source": [
        "import pandas as pd\n",
        "from sklearn.model_selection import train_test_split\n",
        "from sklearn.linear_model import LinearRegression\n",
        "from sklearn.tree import DecisionTreeRegressor\n",
        "from sklearn.ensemble import RandomForestRegressor\n",
        "from sklearn.metrics import mean_absolute_error, mean_squared_error, r2_score\n",
        "from sklearn.preprocessing import StandardScaler\n",
        "\n",
        "# Load the dataset (replace 'your_dataset.csv' with the actual dataset file path)\n",
        "df = pd.read_csv('/content/Dataset .csv')\n",
        "\n",
        "# Task 1: Prepare the dataset for predictive modeling\n",
        "# Assuming we have already performed feature engineering and the relevant features are ready\n",
        "# Let's define the features (X) and target (y) for the model\n",
        "\n",
        "# For simplicity, let's assume 'Aggregate rating' is the target variable (y)\n",
        "# The features (X) will be all other columns, excluding the target column\n",
        "X = df.select_dtypes(include=['number']).drop(columns=['Aggregate rating'])  # Select only numerical features\n",
        "\n",
        "# Target variable\n",
        "y = df['Aggregate rating']\n",
        "\n",
        "# Task 2: Split the dataset into training and testing sets\n",
        "X_train, X_test, y_train, y_test = train_test_split(X, y, test_size=0.2, random_state=42)\n",
        "\n",
        "# Task 3: Standardize the features\n",
        "scaler = StandardScaler()\n",
        "X_train_scaled = scaler.fit_transform(X_train)\n",
        "X_test_scaled = scaler.transform(X_test)\n",
        "\n",
        "# Task 4: Build different regression models and compare their performance\n",
        "\n",
        "# Model 1: Linear Regression\n",
        "linear_regressor = LinearRegression()\n",
        "linear_regressor.fit(X_train_scaled, y_train)\n",
        "y_pred_linear = linear_regressor.predict(X_test_scaled)\n",
        "\n",
        "# Model 2: Decision Tree Regressor\n",
        "decision_tree = DecisionTreeRegressor(random_state=42)\n",
        "decision_tree.fit(X_train, y_train)\n",
        "y_pred_tree = decision_tree.predict(X_test)\n",
        "\n",
        "# Model 3: Random Forest Regressor\n",
        "random_forest = RandomForestRegressor(random_state=42)\n",
        "random_forest.fit(X_train, y_train)\n",
        "y_pred_forest = random_forest.predict(X_test)\n",
        "\n",
        "# Task 5: Evaluate the models using appropriate metrics\n",
        "\n",
        "# Function to evaluate models\n",
        "def evaluate_model(y_true, y_pred, model_name):\n",
        "    print(f\"\\nPerformance of {model_name}:\")\n",
        "    print(f\"Mean Absolute Error (MAE): {mean_absolute_error(y_true, y_pred):.4f}\")\n",
        "    print(f\"Mean Squared Error (MSE): {mean_squared_error(y_true, y_pred):.4f}\")\n",
        "    # Calculate RMSE using numpy to avoid potential compatibility issues:\n",
        "    print(f\"Root Mean Squared Error (RMSE): {np.sqrt(mean_squared_error(y_true, y_pred)):.4f}\")\n",
        "    print(f\"R-squared (R²): {r2_score(y_true, y_pred):.4f}\")\n",
        "\n",
        "import numpy as np\n",
        "\n",
        "# Evaluate each model\n",
        "evaluate_model(y_test, y_pred_linear, \"Linear Regression\")\n",
        "evaluate_model(y_test, y_pred_tree, \"Decision Tree\")\n",
        "evaluate_model(y_test, y_pred_forest, \"Random Forest\")\n",
        "\n",
        "# Task 6: Compare the performance of the models\n",
        "# We can simply look at the R-squared (R²) or RMSE to compare model performance.\n",
        "# Higher R² and lower RMSE indicates a better model.\n"
      ]
    }
  ]
}